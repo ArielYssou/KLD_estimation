{
 "cells": [
  {
   "cell_type": "code",
   "execution_count": 1,
   "metadata": {},
   "outputs": [],
   "source": [
    "import numpy as np\n",
    "import pandas as pd\n",
    "import matplotlib.pyplot as plt"
   ]
  },
  {
   "cell_type": "code",
   "execution_count": 2,
   "metadata": {},
   "outputs": [],
   "source": [
    "N_SIZE = 100000\n",
    "P = np.random.normal(loc=0, scale=1, size=N_SIZE)\n",
    "Q = np.random.normal(loc=1, scale=1, size=N_SIZE)"
   ]
  },
  {
   "cell_type": "code",
   "execution_count": 3,
   "metadata": {},
   "outputs": [
    {
     "data": {
      "text/plain": [
       "(array([   47.,   622.,  4103., 14778., 28564., 29555., 16436.,  5004.,\n",
       "          804.,    87.]),\n",
       " array([-3.08571825, -2.27936057, -1.47300288, -0.66664519,  0.13971249,\n",
       "         0.94607018,  1.75242787,  2.55878555,  3.36514324,  4.17150093,\n",
       "         4.97785861]),\n",
       " <BarContainer object of 10 artists>)"
      ]
     },
     "execution_count": 3,
     "metadata": {},
     "output_type": "execute_result"
    },
    {
     "data": {
      "image/png": "[encoded data removed]",
      "text/plain": [
       "<Figure size 432x288 with 1 Axes>"
      ]
     },
     "metadata": {
      "needs_background": "light"
     },
     "output_type": "display_data"
    }
   ],
   "source": [
    "fig, ax = plt.subplots(1)\n",
    "ax.hist(P, alpha=0.5)\n",
    "ax.hist(Q, alpha=0.5)"
   ]
  },
  {
   "cell_type": "code",
   "execution_count": 6,
   "metadata": {},
   "outputs": [],
   "source": [
    "def cum_count(arr):\n",
    "    sorted_arr = sorted(arr)\n",
    "    counts = np.zeros(len(arr))\n",
    "    rolling_count = 0\n",
    "    \n",
    "    for idx, elem in enumerate(sorted_arr):\n",
    "        rolling_count += 1\n",
    "        counts[idx] = rolling_count\n",
    "        \n",
    "    counts /= len(counts)\n",
    "    return (sorted_arr, counts)\n",
    "\n",
    "def cum_count_reduced(arr):\n",
    "    sorted_arr = np.array(sorted(arr))\n",
    "    counts = np.zeros(len(arr))\n",
    "    rolling_count = 0\n",
    "    \n",
    "    for idx, elem in enumerate(sorted_arr):\n",
    "        rolling_count += 1\n",
    "        counts[idx] = rolling_count\n",
    "        \n",
    "    counts /= len(counts)\n",
    "    counts -= (1 / (2 * len(counts)))\n",
    "    return (sorted_arr, counts)"
   ]
  },
  {
   "cell_type": "code",
   "execution_count": 7,
   "metadata": {},
   "outputs": [],
   "source": [
    "sorted_P, count_P = cum_count(P)\n",
    "sorted_P_reduced, count_P_reduced = cum_count_reduced(P)"
   ]
  },
  {
   "cell_type": "code",
   "execution_count": 8,
   "metadata": {},
   "outputs": [
    {
     "data": {
      "text/plain": [
       "<matplotlib.collections.LineCollection at 0x7fe977dbaf70>"
      ]
     },
     "execution_count": 8,
     "metadata": {},
     "output_type": "execute_result"
    },
    {
     "data": {
      "image/png": "[encoded data removed]",
      "text/plain": [
       "<Figure size 720x720 with 1 Axes>"
      ]
     },
     "metadata": {
      "needs_background": "light"
     },
     "output_type": "display_data"
    }
   ],
   "source": [
    "fig, ax = plt.subplots(1, figsize=(10,10))\n",
    "ax.plot(sorted_P, count_P, marker='o')\n",
    "ax.plot(sorted_P_reduced, count_P_reduced, marker='o')\n",
    "ax.hlines(1, -3, 3)"
   ]
  },
  {
   "cell_type": "code",
   "execution_count": 9,
   "metadata": {},
   "outputs": [],
   "source": [
    "from scipy.interpolate import interp1d"
   ]
  },
  {
   "cell_type": "code",
   "execution_count": 10,
   "metadata": {},
   "outputs": [],
   "source": [
    "f = interp1d(sorted_P_reduced, count_P_reduced)"
   ]
  },
  {
   "cell_type": "code",
   "execution_count": 11,
   "metadata": {},
   "outputs": [],
   "source": [
    "x_new = np.linspace(-2, 0, 100)\n",
    "y_new = f(x_new)"
   ]
  },
  {
   "cell_type": "code",
   "execution_count": 12,
   "metadata": {},
   "outputs": [
    {
     "data": {
      "text/plain": [
       "<matplotlib.collections.LineCollection at 0x7fe9388ae5e0>"
      ]
     },
     "execution_count": 12,
     "metadata": {},
     "output_type": "execute_result"
    },
    {
     "data": {
      "image/png": "[encoded data removed]",
      "text/plain": [
       "<Figure size 720x720 with 1 Axes>"
      ]
     },
     "metadata": {
      "needs_background": "light"
     },
     "output_type": "display_data"
    }
   ],
   "source": [
    "fig, ax = plt.subplots(1, figsize=(10,10))\n",
    "ax.plot(x_new, y_new)\n",
    "ax.scatter(sorted_P_reduced, count_P_reduced, marker='o')\n",
    "ax.hlines(1, -3, 3)"
   ]
  },
  {
   "cell_type": "code",
   "execution_count": 13,
   "metadata": {},
   "outputs": [],
   "source": [
    "eps = 1e-6"
   ]
  },
  {
   "cell_type": "code",
   "execution_count": 14,
   "metadata": {},
   "outputs": [],
   "source": [
    "X = sorted_P_reduced\n",
    "X_lag = sorted_P_reduced - eps\n",
    "\n",
    "X_inter = f(X[1:])\n",
    "X_lag_interp = f(X_lag[1:])\n",
    "\n",
    "Delta_P = (X_inter - X_lag_interp)"
   ]
  },
  {
   "cell_type": "code",
   "execution_count": 28,
   "metadata": {},
   "outputs": [],
   "source": [
    "def cumcount_reduced(arr):\n",
    "    sorted_arr = np.array(arr)\n",
    "    counts = np.zeros(len(arr))\n",
    "    \n",
    "    rolling_count = 0\n",
    "    for idx, elem in enumerate(sorted_arr):\n",
    "        rolling_count += 1\n",
    "        counts[idx] = rolling_count\n",
    "\n",
    "    counts /= len(counts)\n",
    "    counts -= (1 / (2 * len(counts)))\n",
    "\n",
    "    return (sorted_arr, counts)\n",
    "\n",
    "def kl_div(P, Q, eps=1e-10):\n",
    "    P = sorted(P)\n",
    "    Q = sorted(Q)\n",
    "    \n",
    "    P_positions, P_counts = cumcount_reduced(P)\n",
    "    Q_positions, Q_counts = cumcount_reduced(Q)\n",
    "    \n",
    "    f_P = interp1d(P_positions, P_counts)\n",
    "    f_Q = interp1d(Q_positions, Q_counts)\n",
    "    \n",
    "    x_min = np.max([P_positions[1], Q_positions[1]])\n",
    "    x_max= np.min([P_positions[-1], Q_positions[-1]])\n",
    "    \n",
    "    X = np.array( [x for x in P_positions if ((x >= x_min) & (x <= x_max))] )\n",
    "    values = (f_P(X) - f_P(X-eps))  / (f_Q(X) - f_Q(X-eps))\n",
    "    out = np.sum(np.log(values[values > 0]))\n",
    "    out /= len(X)\n",
    "    out -= 1.\n",
    "    return out"
   ]
  },
  {
   "cell_type": "code",
   "execution_count": 29,
   "metadata": {},
   "outputs": [
    {
     "name": "stderr",
     "output_type": "stream",
     "text": [
      "<ipython-input-28-5d9f160689f1>:29: RuntimeWarning: invalid value encountered in true_divide\n",
      "  values = (f_P(X) - f_P(X-eps))  / (f_Q(X) - f_Q(X-eps))\n"
     ]
    },
    {
     "data": {
      "text/plain": [
       "0.38652271257683246"
      ]
     },
     "execution_count": 29,
     "metadata": {},
     "output_type": "execute_result"
    }
   ],
   "source": [
    "P = np.random.normal(loc=0.3, scale=1, size=1000000).astype(np.float64)\n",
    "Q = np.random.normal(loc=1, scale=2, size=1000000).astype(np.float64)\n",
    "kl_div(P, Q, eps=1e-14)"
   ]
  },
  {
   "cell_type": "code",
   "execution_count": 30,
   "metadata": {
    "tags": []
   },
   "outputs": [],
   "source": [
    "outputs = []\n",
    "sizes = range(10, 10000, 10)\n",
    "for size in sizes:\n",
    "    P = np.random.normal(loc=0.3, scale=1, size=size)\n",
    "    Q = np.random.normal(loc=1, scale=2, size=size)\n",
    "    outputs.append(get_delta(P, Q))"
   ]
  },
  {
   "cell_type": "code",
   "execution_count": 31,
   "metadata": {},
   "outputs": [
    {
     "data": {
      "text/plain": [
       "0.3835358184030013"
      ]
     },
     "execution_count": 31,
     "metadata": {},
     "output_type": "execute_result"
    }
   ],
   "source": [
    "outputs[-1]"
   ]
  },
  {
   "cell_type": "code",
   "execution_count": 41,
   "metadata": {},
   "outputs": [
    {
     "data": {
      "text/plain": [
       "array([ 125.89254118,  128.55557319,  131.27493689,  134.05182388,\n",
       "        136.88745095,  139.78306066,  142.73992182,  145.7593301 ,\n",
       "        148.84260857,  151.9911083 ,  155.20620891,  158.48931925,\n",
       "        161.84187792,  165.26535399,  168.76124758,  172.33109056,\n",
       "        175.9764472 ,  179.69891485,  183.50012467,  187.38174229,\n",
       "        191.3454686 ,  195.39304047,  199.5262315 ,  203.7468528 ,\n",
       "        208.05675382,  212.4578231 ,  216.95198915,  221.54122126,\n",
       "        226.22753038,  231.01297001,  235.89963707,  240.88967285,\n",
       "        245.98526393,  251.18864315,  256.50209057,  261.92793448,\n",
       "        267.46855244,  273.12637228,  278.9038732 ,  284.80358684,\n",
       "        290.8280984 ,  296.98004774,  303.26213059,  309.67709969,\n",
       "        316.22776602,  322.91699999,  329.74773278,  336.72295752,\n",
       "        343.84573069,  351.11917342,  358.54647285,  366.13088354,\n",
       "        373.8757289 ,  381.78440264,  389.86037025,  398.10717055,\n",
       "        406.52841719,  415.12780028,  423.90908796,  432.87612811,\n",
       "        442.03284999,  451.38326598,  460.93147333,  470.68165596,\n",
       "        480.63808631,  490.80512717,  501.18723363,  511.78895502,\n",
       "        522.61493691,  533.66992312,  544.95875783,  556.4863877 ,\n",
       "        568.257864  ,  580.27834487,  592.55309755,  605.08750073,\n",
       "        617.88704683,  630.95734448,  644.30412095,  657.93322466,\n",
       "        671.85062773,  686.06242862,  700.57485479,  715.39426544,\n",
       "        730.52715427,  745.98015235,  761.76003102,  777.87370487,\n",
       "        794.32823472,  811.13083079,  828.28885579,  845.80982818,\n",
       "        863.70142546,  881.97148756,  900.62802021,  919.67919851,\n",
       "        939.13337049,  958.99906075,  979.28497423, 1000.        ])"
      ]
     },
     "execution_count": 41,
     "metadata": {},
     "output_type": "execute_result"
    }
   ],
   "source": [
    "100 * np.logspace(0.1, 1, 100, endpoint=True)"
   ]
  },
  {
   "cell_type": "code",
   "execution_count": 44,
   "metadata": {},
   "outputs": [
    {
     "data": {
      "text/plain": [
       "[500,\n",
       " 1500,\n",
       " 2500,\n",
       " 3500,\n",
       " 4500,\n",
       " 5500,\n",
       " 6500,\n",
       " 7500,\n",
       " 8500,\n",
       " 9500,\n",
       " 10500,\n",
       " 11500,\n",
       " 12500,\n",
       " 13500,\n",
       " 14500,\n",
       " 15500,\n",
       " 16500,\n",
       " 17500,\n",
       " 18500,\n",
       " 19500,\n",
       " 20500,\n",
       " 21500,\n",
       " 22500,\n",
       " 23500,\n",
       " 24500,\n",
       " 25500,\n",
       " 26500,\n",
       " 27500,\n",
       " 28500,\n",
       " 29500]"
      ]
     },
     "execution_count": 44,
     "metadata": {},
     "output_type": "execute_result"
    }
   ],
   "source": [
    "[500 + 1000 * i for i in range(30)]"
   ]
  },
  {
   "cell_type": "code",
   "execution_count": 48,
   "metadata": {},
   "outputs": [],
   "source": [
    "import time"
   ]
  },
  {
   "cell_type": "code",
   "execution_count": 51,
   "metadata": {},
   "outputs": [
    {
     "name": "stdout",
     "output_type": "stream",
     "text": [
      "500\n",
      "1500\n",
      "2500\n",
      "3500\n",
      "4500\n",
      "5500\n",
      "6500\n",
      "7500\n",
      "8500\n",
      "9500\n",
      "10500\n",
      "11500\n",
      "12500\n",
      "13500\n",
      "14500\n",
      "15500\n",
      "16500\n",
      "17500\n",
      "18500\n",
      "19500\n",
      "20500\n",
      "21500\n",
      "22500\n",
      "23500\n",
      "24500\n",
      "25500\n",
      "26500\n",
      "27500\n",
      "28500\n",
      "29500\n",
      "CPU times: user 6min 25s, sys: 1.38 s, total: 6min 26s\n",
      "Wall time: 6min 26s\n"
     ]
    }
   ],
   "source": [
    "%%time\n",
    "\n",
    "n_runs = 1000\n",
    "n_simulations = 30\n",
    "simulation_sizes = [500 + 1000 * i for i in range(n_simulations)]\n",
    "\n",
    "\n",
    "execution_times = []\n",
    "results = []\n",
    "result_std = []\n",
    "\n",
    "for size in simulation_sizes:\n",
    "    print(size)\n",
    "    start = time.time()\n",
    "    current_sim_results = []\n",
    "    for sim in range(n_runs):\n",
    "        P = np.random.normal(loc=0.3, scale=1, size=size)\n",
    "        Q = np.random.normal(loc=1, scale=2, size=size)\n",
    "        current_sim_results.append(get_delta(P, Q))\n",
    "\n",
    "    results.append(np.mean(current_sim_results))\n",
    "    result_std.append(np.std(current_sim_results)) \n",
    "    execution_times.append(time.time() - start)"
   ]
  },
  {
   "cell_type": "code",
   "execution_count": 55,
   "metadata": {},
   "outputs": [],
   "source": [
    "results = np.array(results)\n",
    "result_std = np.array(result_std)"
   ]
  },
  {
   "cell_type": "code",
   "execution_count": 68,
   "metadata": {},
   "outputs": [
    {
     "data": {
      "image/png": "[encoded data removed]",
      "text/plain": [
       "<Figure size 720x720 with 1 Axes>"
      ]
     },
     "metadata": {
      "needs_background": "light"
     },
     "output_type": "display_data"
    }
   ],
   "source": [
    "fig, ax = plt.subplots(1, figsize=(10,10))\n",
    "positions = list(range(len(results)))\n",
    "ax.plot(simulation_sizes, results, lw=2, marker='o', mec='white')\n",
    "ax.fill_between(simulation_sizes, results + result_std, results - result_std, alpha=0.3)\n",
    "\n",
    "ax.set_title('KL converge for N(0.3, 1) and N(1, 2)', fontsize=24)\n",
    "ax.set_ylabel('KL value')\n",
    "ax.set_xlabel('Sample size')\n",
    "ax.hlines(0.38, simulation_sizes[0], simulation_sizes[-1], color='black', alpha=1, zorder=-1)\n",
    "plt.show()"
   ]
  },
  {
   "cell_type": "code",
   "execution_count": 76,
   "metadata": {},
   "outputs": [
    {
     "data": {
      "text/plain": [
       "Text(0, 0.5, 'KL calculation time (s)')"
      ]
     },
     "execution_count": 76,
     "metadata": {},
     "output_type": "execute_result"
    },
    {
     "data": {
      "image/png": "[encoded data removed]",
      "text/plain": [
       "<Figure size 504x360 with 1 Axes>"
      ]
     },
     "metadata": {
      "needs_background": "light"
     },
     "output_type": "display_data"
    }
   ],
   "source": [
    "fig, ax = plt.subplots(1, figsize=(7, 5))\n",
    "\n",
    "ax.plot(\n",
    "    simulation_sizes,\n",
    "    np.array(execution_times) / n_runs,\n",
    "    color='black',\n",
    "    marker='o',\n",
    ")\n",
    "\n",
    "ax.set_title('Execution time', fontsize=24)\n",
    "ax.set_xlabel('Simulation size', fontsize=13)\n",
    "ax.set_ylabel('KL calculation time (s)', fontsize=13)\n"
   ]
  },
  {
   "cell_type": "code",
   "execution_count": 37,
   "metadata": {},
   "outputs": [
    {
     "data": {
      "text/plain": [
       "[<matplotlib.lines.Line2D at 0x7fe936d6daf0>]"
      ]
     },
     "execution_count": 37,
     "metadata": {},
     "output_type": "execute_result"
    },
    {
     "data": {
      "image/png": "[encoded data removed]",
      "text/plain": [
       "<Figure size 432x288 with 1 Axes>"
      ]
     },
     "metadata": {
      "needs_background": "light"
     },
     "output_type": "display_data"
    }
   ],
   "source": [
    "s = pd.Series(outputs)\n",
    "\n",
    "plt.plot(s.rolling(10).mean())"
   ]
  },
  {
   "cell_type": "code",
   "execution_count": null,
   "metadata": {},
   "outputs": [],
   "source": [
    "\n"
   ]
  }
 ],
 "metadata": {
  "kernelspec": {
   "display_name": "Python 3",
   "language": "python",
   "name": "python3"
  },
  "language_info": {
   "codemirror_mode": {
    "name": "ipython",
    "version": 3
   },
   "file_extension": ".py",
   "mimetype": "text/x-python",
   "name": "python",
   "nbconvert_exporter": "python",
   "pygments_lexer": "ipython3",
   "version": "3.8.10"
  }
 },
 "nbformat": 4,
 "nbformat_minor": 4
}
